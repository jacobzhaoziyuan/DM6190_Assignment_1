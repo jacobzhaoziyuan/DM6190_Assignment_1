{
 "cells": [
  {
   "cell_type": "code",
   "execution_count": 83,
   "id": "d36f4e71-6595-47f5-9d98-c853f6eb8680",
   "metadata": {},
   "outputs": [],
   "source": [
    "import numpy as np\n",
    "import SimpleITK as sitk\n",
    "import os\n",
    "import os.path as osp\n",
    "import matplotlib.pyplot as plt"
   ]
  },
  {
   "cell_type": "code",
   "execution_count": 84,
   "id": "7ce079b7-9a5c-4e2c-b8e6-92049f08452e",
   "metadata": {},
   "outputs": [],
   "source": [
    "source_path = '/diskd/ziyuan/crossmoda/crossmoda_training_raw/source_training'\n",
    "target_path = '/diskd/ziyuan/crossmoda/crossmoda_training_raw/target_training'\n",
    "val_path = '/diskd/ziyuan/crossmoda/crossmoda_val_raw/target_validation'\n",
    "\n",
    "def Normalize(img):\n",
    "    max = img.max()\n",
    "    min = img.min()\n",
    "    img = (img-min)/(max-min)\n",
    "    return img"
   ]
  },
  {
   "cell_type": "markdown",
   "id": "a79ce495-fd3d-4ef9-a3eb-bdead7cdc437",
   "metadata": {},
   "source": [
    "### source"
   ]
  },
  {
   "cell_type": "code",
   "execution_count": null,
   "id": "be944c98-4c56-4876-8a86-abc9a507fada",
   "metadata": {},
   "outputs": [],
   "source": [
    "path = source_path\n",
    "savedir = '/diskd/ziyuan/crossmoda/process/npz/source_training'\n",
    "if not os.path.exists(savedir):\n",
    "    os.makedirs(savedir)\n",
    "for i in range(1,106):\n",
    "    if i % 10 == 0:\n",
    "        print(i)\n",
    "\n",
    "    img_name = 'crossmoda_'+str(i)+'_ceT1.nii.gz'\n",
    "    label_name = 'crossmoda_'+str(i)+'_Label.nii.gz'\n",
    "    img_path = osp.join(path, img_name)\n",
    "    label_path = osp.join(path, label_name)\n",
    "    img = sitk.ReadImage(img_path)\n",
    "    label = sitk.ReadImage(label_path)\n",
    "    \n",
    "    # resample\n",
    "    new_spacing = [0.6, 0.6, 1.0]\n",
    "    new_size = [int(old_sz * old_spc / new_spc) for old_sz, old_spc, new_spc in\n",
    "                   zip(img.GetSize(), img.GetSpacing(), new_spacing)]\n",
    "\n",
    "    resampled_img = sitk.Resample(img, size=new_size, transform=sitk.Transform(), interpolator=sitk.sitkLinear, \n",
    "                                  outputOrigin=img.GetOrigin(), outputSpacing=new_spacing, \n",
    "                                  outputDirection=img.GetDirection(), defaultPixelValue=0.0, \n",
    "                                  outputPixelType=img.GetPixelIDValue())\n",
    "    resampled_label = sitk.Resample(label, size=new_size, transform=sitk.Transform(), interpolator=sitk.sitkNearestNeighbor, \n",
    "                                  outputOrigin=label.GetOrigin(), outputSpacing=new_spacing, \n",
    "                                  outputDirection=label.GetDirection(), defaultPixelValue=0.0, \n",
    "                                  outputPixelType=label.GetPixelIDValue())\n",
    "    print(resampled_img.GetSpacing(),resampled_img.GetSize())\n",
    "    \n",
    "    # rescale\n",
    "    imgar = sitk.GetArrayFromImage(resampled_img)\n",
    "    imgar = Normalize(imgar)\n",
    "    resampled_img = sitk.GetImageFromArray(imgar)\n",
    "    \n",
    "    # binary threshold\n",
    "    quantile = np.percentile(imgar, 0.75)\n",
    "    mask = imgar\n",
    "    mask[mask<quantile] = 0\n",
    "    inds = np.nonzero(mask)\n",
    "    center = int(inds[1].mean()), int(inds[2].mean())\n",
    "    y1 = max(0, center[0] - 128)\n",
    "    y2 = min(imgar.shape[1], center[0] + 128)\n",
    "\n",
    "    x1 = max(0, center[1] - 128)\n",
    "    x2 = min(imgar.shape[2], center[1] + 128)\n",
    "    \n",
    "    # get ROI\n",
    "    roiImg = sitk.RegionOfInterest(\n",
    "        resampled_img,\n",
    "        [int(x2-x1), int(y2 - y1),resampled_img.GetSize()[2]],\n",
    "        [int(x1), int(y1),  0])\n",
    "\n",
    "    roiLabel = sitk.RegionOfInterest(\n",
    "        resampled_label,\n",
    "        [int(x2-x1), int(y2 - y1),resampled_img.GetSize()[2]],\n",
    "        [int(x1), int(y1),  0])\n",
    "    \n",
    "    imgar = sitk.GetArrayFromImage(roiImg) \n",
    "    labelar = sitk.GetArrayFromImage(roiLabel) \n",
    "    # print(imgar.shape)\n",
    "    \n",
    "    # get npy\n",
    "    # for ind in range(imgar.shape[0]):\n",
    "    #     img_slice = imgar[ind, ...]\n",
    "    #     label_slice = labelar[ind, ...]\n",
    "    #     np.save(osp.join(savedir,'crossmoda_'+str(i)+'_'+str(ind)+'.npy'),img_slice)\n",
    "    #     np.save(osp.join(savedir,'crossmoda_'+str(i)+'_'+str(ind)+'_label.npy'),label_slice)\n",
    "    \n",
    "    # get npz\n",
    "    start = max(0, min(np.nonzero(labelar.max(axis=(1,2)))[0])-2)\n",
    "    end = min(labelar.shape[0], max(np.nonzero(labelar.max(axis=(1,2)))[0])+3)\n",
    "    imgar = imgar[start:end,...]\n",
    "    labelar = labelar[start:end,...]\n",
    "    print(np.unique(labelar))\n",
    "    # np.savez(osp.join(savedir,'crossmoda_'+str(i)+'.npz'),imgar,labelar)\n",
    "    # np.savez(osp.join(savedir,'crossmoda_'+str(i)+'_label.npz'),imgar)"
   ]
  },
  {
   "cell_type": "markdown",
   "id": "62ab1d09-1bb0-4cec-adbd-3b210558cd0e",
   "metadata": {},
   "source": [
    "## target"
   ]
  },
  {
   "cell_type": "code",
   "execution_count": null,
   "id": "75cc54db-1b7b-45f3-95ae-f2e59e224289",
   "metadata": {},
   "outputs": [],
   "source": [
    "path = target_path\n",
    "savedir = '/diskd/ziyuan/crossmoda/process/npz/target_training'\n",
    "if not os.path.exists(savedir):\n",
    "    os.makedirs(savedir)\n",
    "for i in range(106,211):\n",
    "    if i%10 == 0:\n",
    "        print(i)\n",
    "    img_name = 'crossmoda_'+str(i)+'_hrT2.nii.gz'\n",
    "    img_path = osp.join(path, img_name)\n",
    "    img = sitk.ReadImage(img_path)\n",
    "    \n",
    "    # resample\n",
    "    new_spacing = [0.6, 0.6, 1.0]\n",
    "    new_size = [int(old_sz * old_spc / new_spc) for old_sz, old_spc, new_spc in\n",
    "                   zip(img.GetSize(), img.GetSpacing(), new_spacing)]\n",
    "\n",
    "    resampled_img = sitk.Resample(img, size=new_size, transform=sitk.Transform(), interpolator=sitk.sitkLinear, \n",
    "                                  outputOrigin=img.GetOrigin(), outputSpacing=new_spacing, \n",
    "                                  outputDirection=img.GetDirection(), defaultPixelValue=0.0, \n",
    "                                  outputPixelType=img.GetPixelIDValue())\n",
    "    # print(resampled_img.GetSpacing(),resampled_img.GetSize())\n",
    "    \n",
    "    # rescale\n",
    "    imgar = sitk.GetArrayFromImage(resampled_img)\n",
    "    imgar = Normalize(imgar)\n",
    "    resampled_img = sitk.GetImageFromArray(imgar)\n",
    "    \n",
    "    # binary threshold\n",
    "    quantile = np.percentile(imgar, 0.75)\n",
    "    mask = imgar\n",
    "    mask[mask<quantile] = 0\n",
    "    inds = np.nonzero(mask)\n",
    "    center = int(inds[1].mean()), int(inds[2].mean())\n",
    "    y1 = max(0, center[0] - 128)\n",
    "    y2 = min(imgar.shape[1], center[0] + 128)\n",
    "\n",
    "    x1 = max(0, center[1] - 128)\n",
    "    x2 = min(imgar.shape[2], center[1] + 128)\n",
    "    \n",
    "    # get ROI\n",
    "    roiImg = sitk.RegionOfInterest(\n",
    "        resampled_img,\n",
    "        [int(x2-x1), int(y2 - y1),resampled_img.GetSize()[2]],\n",
    "        [int(x1), int(y1),  0])\n",
    "\n",
    "\n",
    "    imgar = sitk.GetArrayFromImage(roiImg) \n",
    "    # print(imgar.shape)\n",
    "    \n",
    "    # for ind in range(imgar.shape[0]):\n",
    "    #     img_slice = imgar[ind, ...]\n",
    "    #     np.save(osp.join(savedir,'crossmoda_'+str(i)+'_'+str(ind)+'.npy'),img_slice)\n",
    "    \n",
    "    # imgar = imgar[labelar.max(axis=(1,2))>0,...]\n",
    "    np.savez(osp.join(savedir,'crossmoda_'+str(i)+'.npz'),imgar)"
   ]
  },
  {
   "cell_type": "markdown",
   "id": "e803e972-124e-4ab2-8f02-fc2977c734a4",
   "metadata": {},
   "source": [
    "## Validation"
   ]
  },
  {
   "cell_type": "markdown",
   "id": "bd3ec1a8-d792-4f66-911d-dbd2a49d8053",
   "metadata": {},
   "source": [
    "resized to (256,256)"
   ]
  },
  {
   "cell_type": "code",
   "execution_count": null,
   "id": "d4280fa6-c892-43b4-80f3-fa8b6e7565a3",
   "metadata": {},
   "outputs": [],
   "source": [
    "path = val_path\n",
    "savedir = '/diskd/ziyuan/crossmoda/process/npz/target_val'\n",
    "if not os.path.exists(savedir):\n",
    "    os.makedirs(savedir)\n",
    "for i in range(211,243):\n",
    "    if i % 10 ==0:\n",
    "        print(i)\n",
    "    img_name = 'crossmoda_'+str(i)+'_hrT2.nii.gz'\n",
    "    img_path = osp.join(path, img_name)\n",
    "    img = sitk.ReadImage(img_path)\n",
    "    \n",
    "    # resample\n",
    "    new_spacing = [0.6, 0.6, 1.0]\n",
    "    new_size = [int(old_sz * old_spc / new_spc) for old_sz, old_spc, new_spc in\n",
    "                   zip(img.GetSize(), img.GetSpacing(), new_spacing)]\n",
    "\n",
    "    resampled_img = sitk.Resample(img, size=new_size, transform=sitk.Transform(), interpolator=sitk.sitkLinear, \n",
    "                                  outputOrigin=img.GetOrigin(), outputSpacing=new_spacing, \n",
    "                                  outputDirection=img.GetDirection(), defaultPixelValue=0.0, \n",
    "                                  outputPixelType=img.GetPixelIDValue())\n",
    "    # print(resampled_img.GetSpacing(),resampled_img.GetSize())\n",
    "    \n",
    "    # rescale\n",
    "    imgar = sitk.GetArrayFromImage(resampled_img)\n",
    "    imgar = Normalize(imgar)\n",
    "    resampled_img = sitk.GetImageFromArray(imgar)\n",
    "    \n",
    "    # binary threshold\n",
    "    quantile = np.percentile(imgar, 0.75)\n",
    "    mask = imgar\n",
    "    mask[mask<quantile] = 0\n",
    "    inds = np.nonzero(mask)\n",
    "    center = int(inds[1].mean()), int(inds[2].mean())\n",
    "    y1 = max(0, center[0] - 128)\n",
    "    y2 = min(imgar.shape[1], center[0] + 128)\n",
    "\n",
    "    x1 = max(0, center[1] - 128)\n",
    "    x2 = min(imgar.shape[2], center[1] + 128)\n",
    "    \n",
    "    # get ROI\n",
    "    roiImg = sitk.RegionOfInterest(\n",
    "        resampled_img,\n",
    "        [int(x2-x1), int(y2 - y1),resampled_img.GetSize()[2]],\n",
    "        [int(x1), int(y1),  0])\n",
    "\n",
    "\n",
    "    imgar = sitk.GetArrayFromImage(roiImg) \n",
    "    # print(imgar.shape)\n",
    "    \n",
    "    # for ind in range(imgar.shape[0]):\n",
    "    #     img_slice = imgar[ind, ...]\n",
    "    #     np.save(osp.join(savedir,'crossmoda_'+str(i)+'_'+str(ind)+'.npy'),img_slice)\n",
    "    np.savez(osp.join(savedir,'crossmoda_'+str(i)+'.npz'),imgar)"
   ]
  },
  {
   "cell_type": "markdown",
   "id": "92cd4656-6c6c-42d6-b4a3-5fa050250dd6",
   "metadata": {},
   "source": [
    "keep the origin size"
   ]
  },
  {
   "cell_type": "code",
   "execution_count": 223,
   "id": "dc9e5bf0-6147-4b78-97fd-9ddc0c02d65f",
   "metadata": {},
   "outputs": [],
   "source": [
    "path = val_path\n",
    "savedir = '/diskd/ziyuan/crossmoda/process/npz/target_val_keepsize'\n",
    "if not os.path.exists(savedir):\n",
    "    os.makedirs(savedir)\n",
    "for i in range(211,243):\n",
    "    img_name = 'crossmoda_'+str(i)+'_hrT2.nii.gz'\n",
    "    img_path = osp.join(path, img_name)\n",
    "    img = sitk.GetArrayFromImage(sitk.ReadImage(img_path))\n",
    "    img = Normalize(img)\n",
    "    np.savez(osp.join(savedir,'crossmoda_'+str(i)+'.npz'),img)\n",
    "    # for ind in range(img.shape[0]):\n",
    "    #     img_slice = img[ind, ...]\n",
    "    #     np.save(osp.join(savedir,'crossmoda_'+str(i)+'_'+str(ind)+'.npy'),img_slice)"
   ]
  },
  {
   "cell_type": "code",
   "execution_count": 232,
   "id": "42cfe02b-c121-462a-b954-2c641b8dca5c",
   "metadata": {},
   "outputs": [],
   "source": [
    "import imgaug.augmenters as iaa\n",
    "path = val_path\n",
    "savedir = '/diskd/ziyuan/crossmoda/process/npz/target_val_size256'\n",
    "resize_shape = (256, 256)\n",
    "transform = iaa.Resize(resize_shape)\n",
    "if not os.path.exists(savedir):\n",
    "    os.makedirs(savedir)\n",
    "for i in range(211,243):\n",
    "    img_name = 'crossmoda_'+str(i)+'_hrT2.nii.gz'\n",
    "    img_path = osp.join(path, img_name)\n",
    "    img = sitk.GetArrayFromImage(sitk.ReadImage(img_path))\n",
    "    img = Normalize(img)\n",
    "    new_img = np.zeros((img.shape[0], 256,256))\n",
    "    for ind in range(img.shape[0]):\n",
    "        img_slice = img[ind, ...]\n",
    "        new_img[ind,...] = transform(image=img_slice)\n",
    "    np.savez(osp.join(savedir,'crossmoda_'+str(i)+'.npz'),new_img)"
   ]
  },
  {
   "cell_type": "markdown",
   "id": "90e0ca4a-c110-431e-b3fa-51dd951cdf0f",
   "metadata": {},
   "source": [
    "#### soure train dataset split to train val and test. train silce with label while val and test include all slice"
   ]
  },
  {
   "cell_type": "markdown",
   "id": "b455d978-faff-4591-897c-1e8c7c2546cf",
   "metadata": {},
   "source": [
    "train"
   ]
  },
  {
   "cell_type": "code",
   "execution_count": 97,
   "id": "91001c9b-7268-4e5a-99da-8337be0bd10f",
   "metadata": {},
   "outputs": [],
   "source": [
    "with open('/diskd/ziyuan/crossmoda/process/npy/source_training_with_label.txt', 'r') as f:\n",
    "    lst = f.readlines()\n",
    "lst = [file.split()[0] for file in lst]\n",
    "train = []\n",
    "for i in range(1,76):\n",
    "    train += [file for file in lst if f'crossmoda_{i}' in file]\n",
    "train.sort()\n",
    "# len(train),train[:10]\n",
    "with open('/diskd/ziyuan/crossmoda/process/npy/source_split/train_with_label.txt', 'w') as f:\n",
    "    for file in train:\n",
    "        f.write(file)\n",
    "        f.write('\\n')"
   ]
  },
  {
   "cell_type": "markdown",
   "id": "b88f1dd5-d992-44af-bc9f-f6ecb9d48fc2",
   "metadata": {},
   "source": [
    "val and test"
   ]
  },
  {
   "cell_type": "code",
   "execution_count": 107,
   "id": "eacb7422-773a-456a-ba1b-850c6700b75b",
   "metadata": {},
   "outputs": [],
   "source": [
    "lst = os.listdir('/diskd/ziyuan/crossmoda/process/npy/source_training')\n",
    "val = []\n",
    "for i in range(76,96):\n",
    "    val += ['/diskd/ziyuan/crossmoda/process/npy/source_training/' + file for file in lst if (f'crossmoda_{i}' in file and 'label' not in file)]\n",
    "val.sort()\n",
    "# len(val),val[:10]\n",
    "with open('/diskd/ziyuan/crossmoda/process/npy/source_split/val.txt', 'w') as f:\n",
    "    for file in val:\n",
    "        f.write(file)\n",
    "        f.write('\\n')"
   ]
  },
  {
   "cell_type": "code",
   "execution_count": 108,
   "id": "74fa1bd2-4898-4d34-9e10-596f9ad70a47",
   "metadata": {},
   "outputs": [],
   "source": [
    "lst = os.listdir('/diskd/ziyuan/crossmoda/process/npy/source_training')\n",
    "test = []\n",
    "for i in range(96,106):\n",
    "    test += ['/diskd/ziyuan/crossmoda/process/npy/source_training/' + file for file in lst if (f'crossmoda_{i}' in file and 'label' not in file)]\n",
    "test.sort()\n",
    "# len(val),val[:10]\n",
    "with open('/diskd/ziyuan/crossmoda/process/npy/source_split/test.txt', 'w') as f:\n",
    "    for file in test:\n",
    "        f.write(file)\n",
    "        f.write('\\n')"
   ]
  },
  {
   "cell_type": "code",
   "execution_count": 114,
   "id": "16e3fd3a-454d-46ca-95c3-67776c9890ad",
   "metadata": {},
   "outputs": [
    {
     "data": {
      "image/png": "[encoded data removed]",
      "text/plain": [
       "<Figure size 432x288 with 2 Axes>"
      ]
     },
     "metadata": {
      "needs_background": "light"
     },
     "output_type": "display_data"
    }
   ],
   "source": [
    "n = 2\n",
    "f = plt.figure()\n",
    "f.add_subplot(1,n,1)\n",
    "plt.imshow(np.load('/diskd/ziyuan/crossmoda/process/npy/source_training/crossmoda_50_60.npy'))\n",
    "f.add_subplot(1,n,2)\n",
    "plt.imshow(np.load('/diskd/ziyuan/crossmoda/process/npy/source_training/crossmoda_50_60_label.npy'))\n",
    "plt.show()"
   ]
  },
  {
   "cell_type": "markdown",
   "id": "427f52b6-3e29-4959-bc77-0b5f1cf06f27",
   "metadata": {},
   "source": [
    "## To tfrecords"
   ]
  },
  {
   "cell_type": "code",
   "execution_count": null,
   "id": "35587510-2d7b-4165-bfbd-c1aaf542c721",
   "metadata": {},
   "outputs": [],
   "source": [
    "dir(tf)"
   ]
  },
  {
   "cell_type": "code",
   "execution_count": 10,
   "id": "21fa5f1d-ce15-460f-be19-4662140eaf31",
   "metadata": {},
   "outputs": [
    {
     "name": "stdout",
     "output_type": "stream",
     "text": [
      "WARNING:tensorflow:From /home/ziyuan/anaconda3/envs/torch/lib/python3.6/site-packages/tensorflow/python/compat/v2_compat.py:101: disable_resource_variables (from tensorflow.python.ops.variable_scope) is deprecated and will be removed in a future version.\n",
      "Instructions for updating:\n",
      "non-resource variables are not supported in the long term\n"
     ]
    }
   ],
   "source": [
    "import tensorflow as tf\n",
    "import tensorflow.compat.v1 as tf \n",
    "tf.disable_v2_behavior()\n",
    "import os\n",
    "import numpy as np\n",
    "import os.path as osp\n",
    "import imgaug.augmenters as iaa\n",
    "from imgaug.augmentables.segmaps import SegmentationMapsOnImage\n",
    "import matplotlib.pyplot as plt\n",
    "\n",
    "def save_tfrecords(data, label, desfile):\n",
    "    with tf.python_io.TFRecordWriter(desfile) as writer:\n",
    "\n",
    "        features = tf.train.Features(\n",
    "            feature = {\n",
    "                \"data_vol\": tf.train.Feature(bytes_list = tf.train.BytesList(value = [data.astype(np.float32).tostring()])),\n",
    "                \"label_vol\": tf.train.Feature(bytes_list = tf.train.BytesList(value = [label.astype(np.float32).tostring()])),\n",
    "                'dsize_dim0': tf.train.Feature(int64_list=tf.train.Int64List(value= [np.int64(data.shape[0])])),\n",
    "                'dsize_dim1': tf.train.Feature(int64_list=tf.train.Int64List(value= [np.int64(data.shape[1])])),\n",
    "                'dsize_dim2': tf.train.Feature(int64_list=tf.train.Int64List(value= [np.int64(data.shape[2])])),\n",
    "                'lsize_dim0': tf.train.Feature(int64_list=tf.train.Int64List(value= [np.int64(label.shape[0])])),\n",
    "                'lsize_dim1': tf.train.Feature(int64_list=tf.train.Int64List(value= [np.int64(label.shape[1])])),\n",
    "                'lsize_dim2': tf.train.Feature(int64_list=tf.train.Int64List(value= [np.int64(label.shape[2])])),\n",
    "            }\n",
    "        )\n",
    "        example = tf.train.Example(features = features)\n",
    "        serialized = example.SerializeToString()\n",
    "        writer.write(serialized)"
   ]
  },
  {
   "cell_type": "code",
   "execution_count": 48,
   "id": "82372348-3a49-4527-b52f-f4be6819b19b",
   "metadata": {},
   "outputs": [],
   "source": [
    "seq = iaa.Sequential([iaa.Affine(scale=(0.9, 1.1), rotate=(-10, 10))])\n",
    "# seq = iaa.Sequential([iaa.Affine(rotate=(-10, 10))])\n",
    "# seq_det = seq.to_deterministic()\n",
    "\n",
    "#\n",
    "# ct\n",
    "data_root = '/diskd/ziyuan/crossmoda/process/npz'\n",
    "phases = ['source_training', 'target_training', 'target_val']\n",
    "tf_savedir = '/diskd/ziyuan/crossmoda/process/tfrecords'\n",
    "\n",
    "for p in phases:\n",
    "    if not os.path.exists(osp.join(tf_savedir,p)):\n",
    "        os.makedirs(osp.join(tf_savedir,p))"
   ]
  },
  {
   "cell_type": "markdown",
   "id": "561bb8db-ae48-479b-b405-1d3f40de6eb4",
   "metadata": {},
   "source": [
    "### source train"
   ]
  },
  {
   "cell_type": "code",
   "execution_count": 65,
   "id": "822ae7c3-f028-4627-9895-fb2188d6825a",
   "metadata": {},
   "outputs": [],
   "source": [
    "path = '/diskd/ziyuan/crossmoda/process/npz/source_training'\n",
    "save_path = '/diskd/ziyuan/crossmoda/process/tfrecords/source_training'\n",
    "os.makedirs(save_path,exist_ok = True)\n",
    "aug_num = 5\n",
    "for n in range(1,106):\n",
    "    npz = osp.join(path,'crossmoda_'+str(n)+'.npz')\n",
    "    # print(npz)\n",
    "    A = np.load(npz)\n",
    "    data = A['arr_0'] # (*,256,256)\n",
    "    label = A['arr_1'] # (*,256,256)\n",
    "    data = np.concatenate([i[..., None] for i in data], axis=-1) # (256,256,*)\n",
    "    label = np.concatenate([i[..., None] for i in label], axis=-1) # (256,256,*)\n",
    "    # print(n,data.shape)\n",
    "    for j in range(1, data.shape[2]-2):\n",
    "        # get three consecutive slice\n",
    "        label_slices = label[:,:,j-1:j+2]\n",
    "        # print(np.unique(label_slices[...,1]),os.path.join(save_path,str(n) +'_'+str(j)+ \"_0.tfrecords\"))\n",
    "        data_slices = data[:,:,j-1:j+2]\n",
    "        save_tfrecords(data_slices, label_slices, os.path.join(save_path,str(n) +'_'+str(j)+ \"_0.tfrecords\"))\n",
    "        segmap = SegmentationMapsOnImage(label_slices[...,1].astype(np.uint8), shape=label_slices.shape)\n",
    "        for k in range(1,aug_num):\n",
    "            img_aug, segmaps_aug = seq(image=data_slices, segmentation_maps=segmap)\n",
    "            label_aug = np.tile(segmaps_aug.arr,(1,1,3))\n",
    "        # print(np.unique(segmaps_aug.arr))\n",
    "            # print(img_aug.shape,label_aug.shape)\n",
    "            save_tfrecords(img_aug, label_aug, os.path.join(save_path,str(n) +'_'+str(j)+ f\"_{k}.tfrecords\"))"
   ]
  },
  {
   "cell_type": "markdown",
   "id": "7058398c-986a-4405-84a1-20c65d74750b",
   "metadata": {},
   "source": [
    "### target training"
   ]
  },
  {
   "cell_type": "code",
   "execution_count": null,
   "id": "24b31b05-8a3d-4c31-90a7-490d271c2fbb",
   "metadata": {},
   "outputs": [],
   "source": [
    "path = '/diskd/ziyuan/crossmoda/process/npz/target_training'\n",
    "save_path = '/diskd/ziyuan/crossmoda/process/tfrecords/target_training'\n",
    "aug_num = 5\n",
    "for n in range(106,107):\n",
    "    if n%10 == 0:\n",
    "        print(n)\n",
    "    npz = osp.join(path,'crossmoda_'+str(n)+'.npz')\n",
    "    A = np.load(npz)\n",
    "    data = A['arr_0'] # (*,256,256\n",
    "    data = np.concatenate([i[..., None] for i in data], axis=-1) # (256,256,*)\n",
    "    for j in range(1, data.shape[2]-2):\n",
    "        # get three consecutive slice\n",
    "        data_slices = data[:,:,j-1:j+2]\n",
    "        # make all zero label for target domain\n",
    "        label_slices = np.zeros((label.shape[0],label.shape[1],3))\n",
    "        img_aug = seq(image=data_slices)\n",
    "        print(img_aug.shape)\n",
    "        save_tfrecords(img_aug, label_slices, os.path.join(save_path,str(n) +'_'+str(j)+ \".tfrecords\"))"
   ]
  },
  {
   "cell_type": "markdown",
   "id": "b78b40f4-1edf-45e0-a091-040d07100e31",
   "metadata": {},
   "source": [
    "### target val"
   ]
  },
  {
   "cell_type": "code",
   "execution_count": 163,
   "id": "cbe38398-dbe0-4b13-ab32-276efa145a05",
   "metadata": {},
   "outputs": [
    {
     "name": "stdout",
     "output_type": "stream",
     "text": [
      "220\n",
      "230\n",
      "240\n"
     ]
    }
   ],
   "source": [
    "path = '/diskd/ziyuan/crossmoda/process/npz/target_val'\n",
    "save_path = '/diskd/ziyuan/crossmoda/process/tfrecords/target_val'\n",
    "aug_num = 5\n",
    "for n in range(211,243):\n",
    "    if n%10 == 0:\n",
    "        print(n)\n",
    "    npz = osp.join(path,'crossmoda_'+str(n)+'.npz')\n",
    "    A = np.load(npz)\n",
    "    data = A['arr_0'] # (*,256,256\n",
    "    data = np.concatenate([i[..., None] for i in data], axis=-1) # (256,256,*)\n",
    "    for j in range(1, data.shape[2]-2):\n",
    "        # get three consecutive slice\n",
    "        data_slices = data[:,:,j-1:j+2]\n",
    "        # make all zero label for target domain\n",
    "        label_slices = np.zeros((label.shape[0],label.shape[1],3))\n",
    "        # print(img_aug.shape)\n",
    "        save_tfrecords(data_slices, label_slices, os.path.join(save_path,str(n) +'_'+str(j)+ \".tfrecords\"))"
   ]
  },
  {
   "cell_type": "markdown",
   "id": "f517bd88-e2f2-4a26-9d90-7bd674a15e65",
   "metadata": {},
   "source": [
    "##### to check the tfrecord"
   ]
  },
  {
   "cell_type": "code",
   "execution_count": 75,
   "id": "7ad2d1ff-0cfb-431a-9a91-97849c915eb8",
   "metadata": {},
   "outputs": [
    {
     "name": "stdout",
     "output_type": "stream",
     "text": [
      "INFO:tensorflow:Error reported to Coordinator: <class 'tensorflow.python.framework.errors_impl.CancelledError'>, Enqueue operation was cancelled\n",
      "\t [[{{node input_producer_1/input_producer_1_EnqueueMany}}]]\n"
     ]
    }
   ],
   "source": [
    "def _decode_samples(image_list, shuffle=False):\n",
    "    # image_list = ['/diskd/ziyuan/sifa_tf/train&val/' + img for img in image_list]\n",
    "    decomp_feature = {\n",
    "        # image size, dimensions of 3 consecutive slices\n",
    "        'dsize_dim0': tf.FixedLenFeature([], tf.int64), # 256\n",
    "        'dsize_dim1': tf.FixedLenFeature([], tf.int64), # 256\n",
    "        'dsize_dim2': tf.FixedLenFeature([], tf.int64), # 3\n",
    "        # label size, dimension of the middle slice\n",
    "        'lsize_dim0': tf.FixedLenFeature([], tf.int64), # 256\n",
    "        'lsize_dim1': tf.FixedLenFeature([], tf.int64), # 256\n",
    "        'lsize_dim2': tf.FixedLenFeature([], tf.int64), # 1\n",
    "        # image slices of size [256, 256, 3]\n",
    "        'data_vol': tf.FixedLenFeature([], tf.string),\n",
    "        # label slice of size [256, 256, 3]\n",
    "        'label_vol': tf.FixedLenFeature([], tf.string)}\n",
    "\n",
    "    raw_size = [256, 256, 3]\n",
    "    volume_size = [256, 256, 3]\n",
    "    label_size = [256, 256, 1] # the label has size [256,256,3] in the preprocessed data, but only the middle slice is used\n",
    "\n",
    "    data_queue = tf.train.string_input_producer(image_list, shuffle=shuffle)\n",
    "    reader = tf.TFRecordReader()\n",
    "    fid, serialized_example = reader.read(data_queue)\n",
    "    parser = tf.parse_single_example(serialized_example, features=decomp_feature)\n",
    "\n",
    "    data_vol = tf.decode_raw(parser['data_vol'], tf.float32)\n",
    "    data_vol = tf.reshape(data_vol, raw_size)\n",
    "    data_vol = tf.slice(data_vol, [0, 0, 0], volume_size)\n",
    "\n",
    "    label_vol = tf.decode_raw(parser['label_vol'], tf.float32)\n",
    "    label_vol = tf.reshape(label_vol, raw_size)\n",
    "    label_vol = tf.slice(label_vol, [0, 0, 1], label_size)\n",
    "\n",
    "    batch_y = tf.one_hot(tf.cast(tf.squeeze(label_vol), tf.uint8), 3)\n",
    "    return tf.expand_dims(data_vol[:, :, 1], axis=2), batch_y\n",
    "\n",
    "def tonpy(image):\n",
    "    data_ = _decode_samples([image])\n",
    "    with tf.Session() as sess:\n",
    "        init_op = tf.initialize_all_variables()\n",
    "        sess.run(init_op)\n",
    "        coord = tf.train.Coordinator()\n",
    "        threads = tf.train.start_queue_runners(coord=coord)\n",
    "        data, label = sess.run(data_)\n",
    "    return data, label\n",
    "        \n",
    "data,label = tonpy('/diskd/ziyuan/crossmoda/process/tfrecords/target_val/241_6.tfrecords')   "
   ]
  },
  {
   "cell_type": "code",
   "execution_count": 76,
   "id": "6db13f45-f01a-411f-adda-4701ec94aee2",
   "metadata": {},
   "outputs": [
    {
     "data": {
      "text/plain": [
       "((256, 256, 1), (256, 256, 3))"
      ]
     },
     "execution_count": 76,
     "metadata": {},
     "output_type": "execute_result"
    }
   ],
   "source": [
    "data.shape,label.shape"
   ]
  },
  {
   "cell_type": "code",
   "execution_count": 77,
   "id": "51b98bf6-ce05-43fb-a9d5-3f6a68c6ad65",
   "metadata": {},
   "outputs": [
    {
     "data": {
      "text/plain": [
       "array([0., 1.], dtype=float32)"
      ]
     },
     "execution_count": 77,
     "metadata": {},
     "output_type": "execute_result"
    }
   ],
   "source": [
    "np.unique(label)"
   ]
  },
  {
   "cell_type": "code",
   "execution_count": 78,
   "id": "65ed1122-6068-444d-94bf-91fa4d098a5f",
   "metadata": {},
   "outputs": [
    {
     "data": {
      "text/plain": [
       "(0.68476903, 0.0028089888)"
      ]
     },
     "execution_count": 78,
     "metadata": {},
     "output_type": "execute_result"
    }
   ],
   "source": [
    "data.max(),data.min()"
   ]
  },
  {
   "cell_type": "code",
   "execution_count": 79,
   "id": "b6b312db-91db-4e4c-b154-8ba27a199997",
   "metadata": {},
   "outputs": [
    {
     "data": {
      "text/plain": [
       "<matplotlib.image.AxesImage at 0x7ff1b007bc18>"
      ]
     },
     "execution_count": 79,
     "metadata": {},
     "output_type": "execute_result"
    },
    {
     "data": {
      "image/png": "[encoded data removed]",
      "text/plain": [
       "<Figure size 432x288 with 1 Axes>"
      ]
     },
     "metadata": {
      "needs_background": "light"
     },
     "output_type": "display_data"
    }
   ],
   "source": [
    "plt.imshow(data[...,0],cmap='gray')"
   ]
  },
  {
   "cell_type": "code",
   "execution_count": 68,
   "id": "a3883fc0-64d1-4134-9369-c710b3825d38",
   "metadata": {},
   "outputs": [
    {
     "data": {
      "text/plain": [
       "<matplotlib.image.AxesImage at 0x7ff1b0314588>"
      ]
     },
     "execution_count": 68,
     "metadata": {},
     "output_type": "execute_result"
    },
    {
     "data": {
      "image/png": "[encoded data removed]",
      "text/plain": [
       "<Figure size 432x288 with 1 Axes>"
      ]
     },
     "metadata": {
      "needs_background": "light"
     },
     "output_type": "display_data"
    }
   ],
   "source": [
    "plt.imshow(np.argmax(label,axis=2))"
   ]
  },
  {
   "cell_type": "code",
   "execution_count": 250,
   "id": "c1f7356d-d4e7-48d5-8acd-09afacb396f9",
   "metadata": {},
   "outputs": [
    {
     "data": {
      "text/plain": [
       "array([0., 1., 2.])"
      ]
     },
     "execution_count": 250,
     "metadata": {},
     "output_type": "execute_result"
    }
   ],
   "source": [
    "data = np.load('/diskd/ziyuan/crossmoda/process/npz/source_training/crossmoda_25.npz')\n",
    "np.unique(data['arr_1'])"
   ]
  }
 ],
 "metadata": {
  "kernelspec": {
   "display_name": "Python 3",
   "language": "python",
   "name": "python3"
  },
  "language_info": {
   "codemirror_mode": {
    "name": "ipython",
    "version": 3
   },
   "file_extension": ".py",
   "mimetype": "text/x-python",
   "name": "python",
   "nbconvert_exporter": "python",
   "pygments_lexer": "ipython3",
   "version": "3.6.10"
  }
 },
 "nbformat": 4,
 "nbformat_minor": 5
}
